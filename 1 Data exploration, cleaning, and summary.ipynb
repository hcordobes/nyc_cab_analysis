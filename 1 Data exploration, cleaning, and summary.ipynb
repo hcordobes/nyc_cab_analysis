{
 "cells": [
  {
   "cell_type": "markdown",
   "metadata": {},
   "source": [
    "# Take home test\n",
    "\n",
    "## Data exploration and cleaning"
   ]
  },
  {
   "cell_type": "code",
   "execution_count": 1,
   "metadata": {
    "collapsed": true
   },
   "outputs": [],
   "source": [
    "import pandas as pd\n",
    "import numpy as np\n",
    "\n",
    "import matplotlib.pyplot as plt\n",
    "%matplotlib inline\n",
    "\n"
   ]
  },
  {
   "cell_type": "markdown",
   "metadata": {},
   "source": [
    "Let's load the data for one month, forcing string objects for numerical data that are actually a coding scheme, and parsing datetime fields properly."
   ]
  },
  {
   "cell_type": "code",
   "execution_count": 36,
   "metadata": {
    "collapsed": true
   },
   "outputs": [],
   "source": [
    "data = pd.read_csv(\"inputdata/yellow_tripdata_2017-03.csv\", \n",
    "                   dtype={'PULocationID':str, 'DOLocationID':str, 'RatecodeID':str,  'payment_type':str,\n",
    "                         'VendorID':str})\n",
    "data['tpep_pickup_datetime']=pd.to_datetime(data['tpep_pickup_datetime'],\n",
    "                                            format='%Y-%m-%d %H:%M:%S', errors='coerce')\n",
    "data['tpep_dropoff_datetime']=pd.to_datetime(data['tpep_dropoff_datetime'],\n",
    "                                            format='%Y-%m-%d %H:%M:%S', errors='coerce')"
   ]
  },
  {
   "cell_type": "code",
   "execution_count": 37,
   "metadata": {},
   "outputs": [
    {
     "data": {
      "text/html": [
       "<div>\n",
       "<style scoped>\n",
       "    .dataframe tbody tr th:only-of-type {\n",
       "        vertical-align: middle;\n",
       "    }\n",
       "\n",
       "    .dataframe tbody tr th {\n",
       "        vertical-align: top;\n",
       "    }\n",
       "\n",
       "    .dataframe thead th {\n",
       "        text-align: right;\n",
       "    }\n",
       "</style>\n",
       "<table border=\"1\" class=\"dataframe\">\n",
       "  <thead>\n",
       "    <tr style=\"text-align: right;\">\n",
       "      <th></th>\n",
       "      <th>VendorID</th>\n",
       "      <th>tpep_pickup_datetime</th>\n",
       "      <th>tpep_dropoff_datetime</th>\n",
       "      <th>passenger_count</th>\n",
       "      <th>trip_distance</th>\n",
       "      <th>RatecodeID</th>\n",
       "      <th>store_and_fwd_flag</th>\n",
       "      <th>PULocationID</th>\n",
       "      <th>DOLocationID</th>\n",
       "      <th>payment_type</th>\n",
       "      <th>fare_amount</th>\n",
       "      <th>extra</th>\n",
       "      <th>mta_tax</th>\n",
       "      <th>tip_amount</th>\n",
       "      <th>tolls_amount</th>\n",
       "      <th>improvement_surcharge</th>\n",
       "      <th>total_amount</th>\n",
       "    </tr>\n",
       "  </thead>\n",
       "  <tbody>\n",
       "    <tr>\n",
       "      <th>0</th>\n",
       "      <td>2</td>\n",
       "      <td>2017-03-09 21:30:11</td>\n",
       "      <td>2017-03-09 21:44:20</td>\n",
       "      <td>1</td>\n",
       "      <td>4.06</td>\n",
       "      <td>1</td>\n",
       "      <td>N</td>\n",
       "      <td>148</td>\n",
       "      <td>48</td>\n",
       "      <td>1</td>\n",
       "      <td>14.0</td>\n",
       "      <td>0.5</td>\n",
       "      <td>0.5</td>\n",
       "      <td>3.06</td>\n",
       "      <td>0.0</td>\n",
       "      <td>0.3</td>\n",
       "      <td>18.36</td>\n",
       "    </tr>\n",
       "    <tr>\n",
       "      <th>1</th>\n",
       "      <td>2</td>\n",
       "      <td>2017-03-09 21:47:00</td>\n",
       "      <td>2017-03-09 21:58:01</td>\n",
       "      <td>1</td>\n",
       "      <td>2.73</td>\n",
       "      <td>1</td>\n",
       "      <td>N</td>\n",
       "      <td>48</td>\n",
       "      <td>107</td>\n",
       "      <td>2</td>\n",
       "      <td>11.5</td>\n",
       "      <td>0.5</td>\n",
       "      <td>0.5</td>\n",
       "      <td>0.00</td>\n",
       "      <td>0.0</td>\n",
       "      <td>0.3</td>\n",
       "      <td>12.80</td>\n",
       "    </tr>\n",
       "    <tr>\n",
       "      <th>2</th>\n",
       "      <td>2</td>\n",
       "      <td>2017-03-09 22:01:08</td>\n",
       "      <td>2017-03-09 22:11:16</td>\n",
       "      <td>1</td>\n",
       "      <td>2.27</td>\n",
       "      <td>1</td>\n",
       "      <td>N</td>\n",
       "      <td>79</td>\n",
       "      <td>162</td>\n",
       "      <td>1</td>\n",
       "      <td>10.0</td>\n",
       "      <td>0.5</td>\n",
       "      <td>0.5</td>\n",
       "      <td>2.82</td>\n",
       "      <td>0.0</td>\n",
       "      <td>0.3</td>\n",
       "      <td>14.12</td>\n",
       "    </tr>\n",
       "    <tr>\n",
       "      <th>3</th>\n",
       "      <td>2</td>\n",
       "      <td>2017-03-09 22:16:05</td>\n",
       "      <td>2017-03-10 06:26:11</td>\n",
       "      <td>1</td>\n",
       "      <td>3.86</td>\n",
       "      <td>1</td>\n",
       "      <td>N</td>\n",
       "      <td>237</td>\n",
       "      <td>41</td>\n",
       "      <td>1</td>\n",
       "      <td>12.0</td>\n",
       "      <td>0.5</td>\n",
       "      <td>0.5</td>\n",
       "      <td>3.99</td>\n",
       "      <td>0.0</td>\n",
       "      <td>0.3</td>\n",
       "      <td>17.29</td>\n",
       "    </tr>\n",
       "    <tr>\n",
       "      <th>4</th>\n",
       "      <td>2</td>\n",
       "      <td>2017-03-31 06:31:53</td>\n",
       "      <td>2017-03-31 06:41:48</td>\n",
       "      <td>1</td>\n",
       "      <td>3.45</td>\n",
       "      <td>1</td>\n",
       "      <td>N</td>\n",
       "      <td>41</td>\n",
       "      <td>162</td>\n",
       "      <td>2</td>\n",
       "      <td>12.0</td>\n",
       "      <td>0.5</td>\n",
       "      <td>0.5</td>\n",
       "      <td>0.00</td>\n",
       "      <td>0.0</td>\n",
       "      <td>0.3</td>\n",
       "      <td>13.30</td>\n",
       "    </tr>\n",
       "  </tbody>\n",
       "</table>\n",
       "</div>"
      ],
      "text/plain": [
       "  VendorID tpep_pickup_datetime tpep_dropoff_datetime  passenger_count  \\\n",
       "0        2  2017-03-09 21:30:11   2017-03-09 21:44:20                1   \n",
       "1        2  2017-03-09 21:47:00   2017-03-09 21:58:01                1   \n",
       "2        2  2017-03-09 22:01:08   2017-03-09 22:11:16                1   \n",
       "3        2  2017-03-09 22:16:05   2017-03-10 06:26:11                1   \n",
       "4        2  2017-03-31 06:31:53   2017-03-31 06:41:48                1   \n",
       "\n",
       "   trip_distance RatecodeID store_and_fwd_flag PULocationID DOLocationID  \\\n",
       "0           4.06          1                  N          148           48   \n",
       "1           2.73          1                  N           48          107   \n",
       "2           2.27          1                  N           79          162   \n",
       "3           3.86          1                  N          237           41   \n",
       "4           3.45          1                  N           41          162   \n",
       "\n",
       "  payment_type  fare_amount  extra  mta_tax  tip_amount  tolls_amount  \\\n",
       "0            1         14.0    0.5      0.5        3.06           0.0   \n",
       "1            2         11.5    0.5      0.5        0.00           0.0   \n",
       "2            1         10.0    0.5      0.5        2.82           0.0   \n",
       "3            1         12.0    0.5      0.5        3.99           0.0   \n",
       "4            2         12.0    0.5      0.5        0.00           0.0   \n",
       "\n",
       "   improvement_surcharge  total_amount  \n",
       "0                    0.3         18.36  \n",
       "1                    0.3         12.80  \n",
       "2                    0.3         14.12  \n",
       "3                    0.3         17.29  \n",
       "4                    0.3         13.30  "
      ]
     },
     "execution_count": 37,
     "metadata": {},
     "output_type": "execute_result"
    }
   ],
   "source": [
    "data.head()"
   ]
  },
  {
   "cell_type": "code",
   "execution_count": 38,
   "metadata": {},
   "outputs": [
    {
     "data": {
      "text/html": [
       "<div>\n",
       "<style scoped>\n",
       "    .dataframe tbody tr th:only-of-type {\n",
       "        vertical-align: middle;\n",
       "    }\n",
       "\n",
       "    .dataframe tbody tr th {\n",
       "        vertical-align: top;\n",
       "    }\n",
       "\n",
       "    .dataframe thead th {\n",
       "        text-align: right;\n",
       "    }\n",
       "</style>\n",
       "<table border=\"1\" class=\"dataframe\">\n",
       "  <thead>\n",
       "    <tr style=\"text-align: right;\">\n",
       "      <th></th>\n",
       "      <th>passenger_count</th>\n",
       "      <th>trip_distance</th>\n",
       "      <th>fare_amount</th>\n",
       "      <th>extra</th>\n",
       "      <th>mta_tax</th>\n",
       "      <th>tip_amount</th>\n",
       "      <th>tolls_amount</th>\n",
       "      <th>improvement_surcharge</th>\n",
       "      <th>total_amount</th>\n",
       "    </tr>\n",
       "  </thead>\n",
       "  <tbody>\n",
       "    <tr>\n",
       "      <th>count</th>\n",
       "      <td>1.029463e+07</td>\n",
       "      <td>1.029463e+07</td>\n",
       "      <td>1.029463e+07</td>\n",
       "      <td>1.029463e+07</td>\n",
       "      <td>1.029463e+07</td>\n",
       "      <td>1.029463e+07</td>\n",
       "      <td>1.029463e+07</td>\n",
       "      <td>1.029463e+07</td>\n",
       "      <td>1.029463e+07</td>\n",
       "    </tr>\n",
       "    <tr>\n",
       "      <th>mean</th>\n",
       "      <td>1.618225e+00</td>\n",
       "      <td>2.884684e+00</td>\n",
       "      <td>1.291388e+01</td>\n",
       "      <td>3.408597e-01</td>\n",
       "      <td>4.973619e-01</td>\n",
       "      <td>1.857154e+00</td>\n",
       "      <td>3.104581e-01</td>\n",
       "      <td>2.996462e-01</td>\n",
       "      <td>1.622369e+01</td>\n",
       "    </tr>\n",
       "    <tr>\n",
       "      <th>std</th>\n",
       "      <td>1.262620e+00</td>\n",
       "      <td>3.720506e+00</td>\n",
       "      <td>5.499035e+01</td>\n",
       "      <td>4.674591e-01</td>\n",
       "      <td>7.189369e-02</td>\n",
       "      <td>2.621220e+00</td>\n",
       "      <td>1.902767e+00</td>\n",
       "      <td>1.386019e-02</td>\n",
       "      <td>5.561842e+01</td>\n",
       "    </tr>\n",
       "    <tr>\n",
       "      <th>min</th>\n",
       "      <td>0.000000e+00</td>\n",
       "      <td>0.000000e+00</td>\n",
       "      <td>-3.080000e+02</td>\n",
       "      <td>-5.371000e+01</td>\n",
       "      <td>-5.000000e-01</td>\n",
       "      <td>-9.100000e+01</td>\n",
       "      <td>-1.750000e+01</td>\n",
       "      <td>-3.000000e-01</td>\n",
       "      <td>-3.088000e+02</td>\n",
       "    </tr>\n",
       "    <tr>\n",
       "      <th>25%</th>\n",
       "      <td>1.000000e+00</td>\n",
       "      <td>9.400000e-01</td>\n",
       "      <td>6.500000e+00</td>\n",
       "      <td>0.000000e+00</td>\n",
       "      <td>5.000000e-01</td>\n",
       "      <td>0.000000e+00</td>\n",
       "      <td>0.000000e+00</td>\n",
       "      <td>3.000000e-01</td>\n",
       "      <td>8.400000e+00</td>\n",
       "    </tr>\n",
       "    <tr>\n",
       "      <th>50%</th>\n",
       "      <td>1.000000e+00</td>\n",
       "      <td>1.600000e+00</td>\n",
       "      <td>9.500000e+00</td>\n",
       "      <td>0.000000e+00</td>\n",
       "      <td>5.000000e-01</td>\n",
       "      <td>1.360000e+00</td>\n",
       "      <td>0.000000e+00</td>\n",
       "      <td>3.000000e-01</td>\n",
       "      <td>1.180000e+01</td>\n",
       "    </tr>\n",
       "    <tr>\n",
       "      <th>75%</th>\n",
       "      <td>2.000000e+00</td>\n",
       "      <td>3.000000e+00</td>\n",
       "      <td>1.450000e+01</td>\n",
       "      <td>5.000000e-01</td>\n",
       "      <td>5.000000e-01</td>\n",
       "      <td>2.450000e+00</td>\n",
       "      <td>0.000000e+00</td>\n",
       "      <td>3.000000e-01</td>\n",
       "      <td>1.780000e+01</td>\n",
       "    </tr>\n",
       "    <tr>\n",
       "      <th>max</th>\n",
       "      <td>9.000000e+00</td>\n",
       "      <td>5.985000e+02</td>\n",
       "      <td>1.718618e+05</td>\n",
       "      <td>6.980000e+01</td>\n",
       "      <td>1.033000e+02</td>\n",
       "      <td>4.254700e+02</td>\n",
       "      <td>9.235000e+02</td>\n",
       "      <td>5.000000e-01</td>\n",
       "      <td>1.718636e+05</td>\n",
       "    </tr>\n",
       "  </tbody>\n",
       "</table>\n",
       "</div>"
      ],
      "text/plain": [
       "       passenger_count  trip_distance   fare_amount         extra  \\\n",
       "count     1.029463e+07   1.029463e+07  1.029463e+07  1.029463e+07   \n",
       "mean      1.618225e+00   2.884684e+00  1.291388e+01  3.408597e-01   \n",
       "std       1.262620e+00   3.720506e+00  5.499035e+01  4.674591e-01   \n",
       "min       0.000000e+00   0.000000e+00 -3.080000e+02 -5.371000e+01   \n",
       "25%       1.000000e+00   9.400000e-01  6.500000e+00  0.000000e+00   \n",
       "50%       1.000000e+00   1.600000e+00  9.500000e+00  0.000000e+00   \n",
       "75%       2.000000e+00   3.000000e+00  1.450000e+01  5.000000e-01   \n",
       "max       9.000000e+00   5.985000e+02  1.718618e+05  6.980000e+01   \n",
       "\n",
       "            mta_tax    tip_amount  tolls_amount  improvement_surcharge  \\\n",
       "count  1.029463e+07  1.029463e+07  1.029463e+07           1.029463e+07   \n",
       "mean   4.973619e-01  1.857154e+00  3.104581e-01           2.996462e-01   \n",
       "std    7.189369e-02  2.621220e+00  1.902767e+00           1.386019e-02   \n",
       "min   -5.000000e-01 -9.100000e+01 -1.750000e+01          -3.000000e-01   \n",
       "25%    5.000000e-01  0.000000e+00  0.000000e+00           3.000000e-01   \n",
       "50%    5.000000e-01  1.360000e+00  0.000000e+00           3.000000e-01   \n",
       "75%    5.000000e-01  2.450000e+00  0.000000e+00           3.000000e-01   \n",
       "max    1.033000e+02  4.254700e+02  9.235000e+02           5.000000e-01   \n",
       "\n",
       "       total_amount  \n",
       "count  1.029463e+07  \n",
       "mean   1.622369e+01  \n",
       "std    5.561842e+01  \n",
       "min   -3.088000e+02  \n",
       "25%    8.400000e+00  \n",
       "50%    1.180000e+01  \n",
       "75%    1.780000e+01  \n",
       "max    1.718636e+05  "
      ]
     },
     "execution_count": 38,
     "metadata": {},
     "output_type": "execute_result"
    }
   ],
   "source": [
    "data.describe()"
   ]
  },
  {
   "cell_type": "markdown",
   "metadata": {},
   "source": [
    "Here we can see what we can expect from the data. If we read the data dictionary we can understand the semantics of some fields which are not intuitive (such as 'RatecodeID' or 'store_and_fwd_flag'). Additionally we can see the format used for instance, in the datetime fields.\n",
    "\n",
    "We can take a look at means and extremes to gather some hints about the data but also potential issues. For example the 'fare_amount' field is a bit suspicious (percentile 75 is ~ $14.5, but the maximum is in the tens of thousands!). Or we can also see that some money amounts can be negative. We will need to consider at the same time knowledge about the data and analysis techniques."
   ]
  },
  {
   "cell_type": "code",
   "execution_count": 39,
   "metadata": {},
   "outputs": [
    {
     "data": {
      "text/plain": [
       "(10294628, 17)"
      ]
     },
     "execution_count": 39,
     "metadata": {},
     "output_type": "execute_result"
    }
   ],
   "source": [
    "data.shape"
   ]
  },
  {
   "cell_type": "markdown",
   "metadata": {},
   "source": [
    "We can also see that we have a very nice set, with about 10 million entries for the month of March."
   ]
  },
  {
   "cell_type": "markdown",
   "metadata": {},
   "source": [
    "### Cleaning\n",
    "\n",
    "There are some basic task we can follow to check the validity of the entries in the data set.\n",
    "\n",
    "First, find whether we have null (not present) values"
   ]
  },
  {
   "cell_type": "code",
   "execution_count": 44,
   "metadata": {},
   "outputs": [
    {
     "data": {
      "text/plain": [
       "Series([], dtype: float64)"
      ]
     },
     "execution_count": 44,
     "metadata": {},
     "output_type": "execute_result"
    }
   ],
   "source": [
    "null_cols = data.columns[data.isna().any()]\n",
    "\n",
    "data[null_cols].isna().sum()\n"
   ]
  },
  {
   "cell_type": "markdown",
   "metadata": {},
   "source": [
    "We have an empty output, so we didn't find any null (NaN, NaT, etc) value in the data."
   ]
  },
  {
   "cell_type": "markdown",
   "metadata": {},
   "source": [
    "Then we can check the semantics of the values. For example, the PickUp datetime must occur before the DropOff (if using localtime then Saving Time issues may appear). RateCode must be between 1 and 6. The distance should be positive greater than zero (and we could optionally try to have a reasonable minimum and maximum). All of these checks come from logic assumptions or the data dictionary.\n",
    "Also by having more knowledge from some expert (an example for this case, taxi drivers) other checks may be used. Let's assume, for example, that a valid entry must have a number of passengers of at least one."
   ]
  },
  {
   "cell_type": "code",
   "execution_count": 45,
   "metadata": {
    "collapsed": true
   },
   "outputs": [],
   "source": [
    "diff_date=(data['tpep_dropoff_datetime']-data['tpep_pickup_datetime']).astype('timedelta64[s]')\n",
    "\n",
    "bad_dates=diff_date.index[diff_date < 0].tolist()"
   ]
  },
  {
   "cell_type": "markdown",
   "metadata": {},
   "source": [
    "Let's check the output:"
   ]
  },
  {
   "cell_type": "code",
   "execution_count": 46,
   "metadata": {},
   "outputs": [
    {
     "data": {
      "text/html": [
       "<div>\n",
       "<style scoped>\n",
       "    .dataframe tbody tr th:only-of-type {\n",
       "        vertical-align: middle;\n",
       "    }\n",
       "\n",
       "    .dataframe tbody tr th {\n",
       "        vertical-align: top;\n",
       "    }\n",
       "\n",
       "    .dataframe thead th {\n",
       "        text-align: right;\n",
       "    }\n",
       "</style>\n",
       "<table border=\"1\" class=\"dataframe\">\n",
       "  <thead>\n",
       "    <tr style=\"text-align: right;\">\n",
       "      <th></th>\n",
       "      <th>VendorID</th>\n",
       "      <th>tpep_pickup_datetime</th>\n",
       "      <th>tpep_dropoff_datetime</th>\n",
       "      <th>passenger_count</th>\n",
       "      <th>trip_distance</th>\n",
       "      <th>RatecodeID</th>\n",
       "      <th>store_and_fwd_flag</th>\n",
       "      <th>PULocationID</th>\n",
       "      <th>DOLocationID</th>\n",
       "      <th>payment_type</th>\n",
       "      <th>fare_amount</th>\n",
       "      <th>extra</th>\n",
       "      <th>mta_tax</th>\n",
       "      <th>tip_amount</th>\n",
       "      <th>tolls_amount</th>\n",
       "      <th>improvement_surcharge</th>\n",
       "      <th>total_amount</th>\n",
       "    </tr>\n",
       "  </thead>\n",
       "  <tbody>\n",
       "    <tr>\n",
       "      <th>4890789</th>\n",
       "      <td>1</td>\n",
       "      <td>2017-03-14 15:15:22</td>\n",
       "      <td>2017-03-11 15:55:05</td>\n",
       "      <td>1</td>\n",
       "      <td>11.7</td>\n",
       "      <td>1</td>\n",
       "      <td>Y</td>\n",
       "      <td>164</td>\n",
       "      <td>26</td>\n",
       "      <td>1</td>\n",
       "      <td>42.0</td>\n",
       "      <td>1.0</td>\n",
       "      <td>0.5</td>\n",
       "      <td>3.00</td>\n",
       "      <td>5.54</td>\n",
       "      <td>0.3</td>\n",
       "      <td>52.34</td>\n",
       "    </tr>\n",
       "    <tr>\n",
       "      <th>7012746</th>\n",
       "      <td>1</td>\n",
       "      <td>2017-03-25 20:21:21</td>\n",
       "      <td>2017-03-25 20:05:27</td>\n",
       "      <td>1</td>\n",
       "      <td>2.2</td>\n",
       "      <td>1</td>\n",
       "      <td>N</td>\n",
       "      <td>229</td>\n",
       "      <td>50</td>\n",
       "      <td>1</td>\n",
       "      <td>15.5</td>\n",
       "      <td>0.0</td>\n",
       "      <td>0.5</td>\n",
       "      <td>3.25</td>\n",
       "      <td>0.00</td>\n",
       "      <td>0.3</td>\n",
       "      <td>19.55</td>\n",
       "    </tr>\n",
       "  </tbody>\n",
       "</table>\n",
       "</div>"
      ],
      "text/plain": [
       "        VendorID tpep_pickup_datetime tpep_dropoff_datetime  passenger_count  \\\n",
       "4890789        1  2017-03-14 15:15:22   2017-03-11 15:55:05                1   \n",
       "7012746        1  2017-03-25 20:21:21   2017-03-25 20:05:27                1   \n",
       "\n",
       "         trip_distance RatecodeID store_and_fwd_flag PULocationID  \\\n",
       "4890789           11.7          1                  Y          164   \n",
       "7012746            2.2          1                  N          229   \n",
       "\n",
       "        DOLocationID payment_type  fare_amount  extra  mta_tax  tip_amount  \\\n",
       "4890789           26            1         42.0    1.0      0.5        3.00   \n",
       "7012746           50            1         15.5    0.0      0.5        3.25   \n",
       "\n",
       "         tolls_amount  improvement_surcharge  total_amount  \n",
       "4890789          5.54                    0.3         52.34  \n",
       "7012746          0.00                    0.3         19.55  "
      ]
     },
     "execution_count": 46,
     "metadata": {},
     "output_type": "execute_result"
    }
   ],
   "source": [
    "data.loc[bad_dates]"
   ]
  },
  {
   "cell_type": "markdown",
   "metadata": {},
   "source": [
    "Of course maybe the usage of 'store and forward' as the data production from the taxi could impact these values. Be as it may, we cannot know the cause behind this case, so we shouldn't use at least the timestamps for these entries. For simplicity in this case the 'bad_dates' entries will be ignored, and the same considerations will be used for the rest of the tests:"
   ]
  },
  {
   "cell_type": "code",
   "execution_count": 21,
   "metadata": {
    "collapsed": true
   },
   "outputs": [],
   "source": [
    "bad_distance=data.index[data['trip_distance'] <= 0].tolist()\n",
    "bad_RatecodeID=data.index[~data['RatecodeID'].isin([str(x) for x in range(1,7)])].tolist()\n",
    "bad_charges=data.index[(data['fare_amount'] < 0) | (data['extra'] < 0) | (data['mta_tax'] < 0) | (data['tip_amount'] < 0) |\n",
    "                       (data['tolls_amount'] < 0) | (data['improvement_surcharge'] < 0) | (data['total_amount'] < 0)]\n",
    "bad_entries=set(bad_dates) | set(bad_distance) | set(bad_RatecodeID) | set(bad_charges)"
   ]
  },
  {
   "cell_type": "code",
   "execution_count": 22,
   "metadata": {},
   "outputs": [
    {
     "name": "stdout",
     "output_type": "stream",
     "text": [
      "Number of ignored entries: 70422\n",
      "Ratio of invalid entries: 0.006841\n"
     ]
    }
   ],
   "source": [
    "print(\"Number of ignored entries: %d\" % len(bad_entries))\n",
    "print(\"Ratio of invalid entries: %f\" % (len(bad_entries)/data.shape[0]))"
   ]
  },
  {
   "cell_type": "code",
   "execution_count": 23,
   "metadata": {
    "collapsed": true
   },
   "outputs": [],
   "source": [
    "data=data.drop(data.index[list(bad_entries)])"
   ]
  },
  {
   "cell_type": "markdown",
   "metadata": {},
   "source": [
    "We could imputate some of the data as well in cases where we can make reasonable assumptions. For example, let's locate the cases where the number of passengers is not valid (less than one), and substitute those cases with (for instance) the median value. Although the mean value is faster to calculate given the number of entries."
   ]
  },
  {
   "cell_type": "code",
   "execution_count": 24,
   "metadata": {
    "collapsed": true
   },
   "outputs": [],
   "source": [
    "mean_passenger=np.mean(data['passenger_count'])\n",
    "data[data['passenger_count']<1] = mean_passenger"
   ]
  },
  {
   "cell_type": "markdown",
   "metadata": {},
   "source": [
    "## Data summary\n",
    "\n",
    "We have 17 different fields with different semantics. This could be a basic summary extending the semantics present at http://www.nyc.gov/html/tlc/downloads/pdf/data_dictionary_trip_records_yellow.pdf\n",
    "\n",
    "| variable | type | comments |\n",
    "| :--- | --- | ---: |\n",
    "| **VendorID** | categorical | Provider of the data, note 1 |\n",
    "| **tpep_pickup_datetime** \t| timestamp string | Pick Up Time in NYC local time |\n",
    "| **tpep_dropoff_datetime** | timestamp string | Drop Off Time in NYC local time |\n",
    "| **passenger_count** | integer | Data entered manually (by driver) |\n",
    "| **trip_distance** | float | Distance in miles as per taximeter |\n",
    "| **RatecodeID** | categorical | Rate code, note 1 |\n",
    "| **store_and_fwd_flag**  | categorical | data storage mode |\n",
    "| **PULocationID** | categorical-spatial | note 1, note 2 |\n",
    "| **DOLocationID** | categorical-spatial | note 1, note 2 |\n",
    "| **payment_type**  | categorical | Payment method, and null trip indicator \"6\", note 1 |\n",
    "| **fare_amount** | float | The base charge from the taximeter |\n",
    "| **extra** | float | Extra charges |\n",
    "| **mta_tax** | float | Tax charges |\n",
    "| **tip_amount** | float | Automatic card tip, cash tips not included |\n",
    "| **tolls_amount** | float | Tolls charges |\n",
    "| **improvement_surcharge** | float | Levied in 2015 |\n",
    "| **total_amount** | float | Does not include cash tips |\n",
    "\n",
    "\n",
    "Note 1: Categorical variable represented with a number, care should be taken when importing this data so it is not treated as a number\n",
    "\n",
    "Note 2: Code refers to a given spatial area, values may be obtained from shapes file. This could be interesting when searching for spatial clusters\n",
    "\n",
    "It is interesting to note that cash tips are not visible. Let's assume this does not impact the result."
   ]
  },
  {
   "cell_type": "markdown",
   "metadata": {},
   "source": [
    "## Some insights with descriptive analysis\n",
    "\n",
    "### Trip distance distribution and outliers"
   ]
  },
  {
   "cell_type": "code",
   "execution_count": 25,
   "metadata": {},
   "outputs": [
    {
     "data": {
      "image/png": "[encoded data removed]",
      "text/plain": [
       "<matplotlib.figure.Figure at 0x7f57748014a8>"
      ]
     },
     "metadata": {},
     "output_type": "display_data"
    }
   ],
   "source": [
    "hist=data['trip_distance'].hist()"
   ]
  },
  {
   "cell_type": "markdown",
   "metadata": {},
   "source": [
    "This result is strange. Not because it is more likely to have lower distance trips, but the huge difference between the extremes. Let's see a box plot:"
   ]
  },
  {
   "cell_type": "code",
   "execution_count": 26,
   "metadata": {},
   "outputs": [
    {
     "data": {
      "image/png": "[encoded data removed]",
      "text/plain": [
       "<matplotlib.figure.Figure at 0x7f576a2ab748>"
      ]
     },
     "metadata": {},
     "output_type": "display_data"
    }
   ],
   "source": [
    "plt.boxplot(data['trip_distance'])\n",
    "plt.show()"
   ]
  },
  {
   "cell_type": "markdown",
   "metadata": {},
   "source": [
    "Now this figure is interesting. We can see we have many supposed outliers as per a standard box plot. Nevertheless in this case our distribution looks more concentrated towards lower values. Let's see when we visualise the samples through a non-linear function:"
   ]
  },
  {
   "cell_type": "code",
   "execution_count": 27,
   "metadata": {},
   "outputs": [
    {
     "data": {
      "image/png": "[encoded data removed]",
      "text/plain": [
       "<matplotlib.figure.Figure at 0x7f56d6791128>"
      ]
     },
     "metadata": {},
     "output_type": "display_data"
    }
   ],
   "source": [
    "hist=np.log10(0.01+data['trip_distance']).hist(bins=11)"
   ]
  },
  {
   "cell_type": "markdown",
   "metadata": {},
   "source": [
    "Not clear yet what is the best model fit for this data (maybe log-normal?). Intuitively it seems that anything below 160m (one tenth of a mile) or over 50Km (1 mile times 10^1.5) can be considered rare. More rigurously, 99% of samples fall between:"
   ]
  },
  {
   "cell_type": "code",
   "execution_count": 28,
   "metadata": {},
   "outputs": [
    {
     "data": {
      "text/plain": [
       "array([ 0.2, 20.6])"
      ]
     },
     "execution_count": 28,
     "metadata": {},
     "output_type": "execute_result"
    }
   ],
   "source": [
    "np.percentile(data['trip_distance'], [0.5, 99.5])\n"
   ]
  },
  {
   "cell_type": "markdown",
   "metadata": {},
   "source": [
    "We may decide that we prefer a model based on reasonable assumptions and filter out anything beyond these bounds, or maybe we do want to keep the outliers, so we may have an example of an extreme case. Alhtough being outliers there will not be many, and maybe not representative. As always, the tradeoff between good generalisations and behaviour in extreme cases (such as long-tail models) will need to be considered up to the last mile, and a good test set should be used to have a good insight.\n",
    "\n",
    "But the identification of outliers admits different perspectives, even more when we deal with time series (for example using MUOD https://www.nature.com/articles/s41598-018-24874-2)"
   ]
  },
  {
   "cell_type": "markdown",
   "metadata": {},
   "source": [
    "### Most frequent locations\n",
    "\n",
    "We can see where the pick-ups are more likely:"
   ]
  },
  {
   "cell_type": "code",
   "execution_count": 113,
   "metadata": {
    "collapsed": true
   },
   "outputs": [],
   "source": [
    "locations_group = data['PULocationID'].value_counts()\n"
   ]
  },
  {
   "cell_type": "code",
   "execution_count": 117,
   "metadata": {},
   "outputs": [
    {
     "data": {
      "text/plain": [
       "Text(0,0.5,'Occurrences')"
      ]
     },
     "execution_count": 117,
     "metadata": {},
     "output_type": "execute_result"
    },
    {
     "data": {
      "image/png": "[encoded data removed]",
      "text/plain": [
       "<matplotlib.figure.Figure at 0x7f574833f358>"
      ]
     },
     "metadata": {},
     "output_type": "display_data"
    }
   ],
   "source": [
    "plot_locations=locations_group.head(30).plot(kind='bar', legend=None, title=\"30 most frequent pick up locations\")\n",
    "plot_locations.set_xlabel(\"Locations\")\n",
    "plot_locations.set_ylabel(\"Occurrences\")"
   ]
  },
  {
   "cell_type": "markdown",
   "metadata": {},
   "source": [
    "### Time/space trends\n",
    "\n",
    "We could also try to have a more complex descriptive analysis from the data, trying to solve some questions such as where it could be the most profitable given the time of the day. Let's assume (at least from my humble perspective) that the profitability is proportional to the ratio of tip amount over distance, and make some viz for the 30 most frequent locations. This is a decision with very little basis, as we don't know yet what the best location should be, and by no means being the most likely should be regarded a guarantee of profitability. But with this artificial limitation calculations are fast to show what types of processing we can do with data. And also, if the new company is to try to take a piece of the cake, it is a better scenario if the cake is big for everyone."
   ]
  },
  {
   "cell_type": "code",
   "execution_count": 139,
   "metadata": {
    "collapsed": true
   },
   "outputs": [],
   "source": [
    "data['tip_per_distance']=data['tip_amount']/(0.1+data['trip_distance']) # Just in case\n",
    "hm_data=data[ ['tip_per_distance', 'PULocationID', 'tpep_pickup_datetime']]\n",
    "hm_data=hm_data[hm_data['PULocationID'].isin(locations_group.head(30).index)]\n"
   ]
  },
  {
   "cell_type": "code",
   "execution_count": 140,
   "metadata": {
    "collapsed": true
   },
   "outputs": [],
   "source": [
    "hm_data['hour_week']=hm_data['tpep_pickup_datetime'].dt.hour+hm_data['tpep_pickup_datetime'].dt.dayofweek*24"
   ]
  },
  {
   "cell_type": "code",
   "execution_count": 141,
   "metadata": {
    "collapsed": true
   },
   "outputs": [],
   "source": [
    "hm_grouping = hm_data.groupby(['PULocationID', 'hour_week'])"
   ]
  },
  {
   "cell_type": "markdown",
   "metadata": {},
   "source": [
    "With this we have a reference of what is the best area to cover with the taxi given the time and day of the week:"
   ]
  },
  {
   "cell_type": "code",
   "execution_count": 155,
   "metadata": {
    "collapsed": true
   },
   "outputs": [],
   "source": [
    "heatmap_values=hm_grouping['tip_per_distance'].mean()\n"
   ]
  },
  {
   "cell_type": "markdown",
   "metadata": {},
   "source": [
    "Also we could try to see this data on a 2D figure, although it is not a good viz (too many indexes). The grid will show the profitability index on a grid of zones by hour of the week. I will use a compressing function to make it easy to the eye to spot differences."
   ]
  },
  {
   "cell_type": "code",
   "execution_count": 154,
   "metadata": {},
   "outputs": [
    {
     "data": {
      "image/png": "[encoded data removed]",
      "text/plain": [
       "<matplotlib.figure.Figure at 0x7f57483ecda0>"
      ]
     },
     "metadata": {},
     "output_type": "display_data"
    }
   ],
   "source": [
    "heatmap_values=heatmap.unstack(fill_value=0)\n",
    "\n",
    "plt.pcolor(np.log10(0.1+heatmap_values), cmap='gray')\n",
    "plt.yticks(np.arange(0.5, len(heatmap_values.index), 1), heatmap_values.index)\n",
    "plt.show()"
   ]
  },
  {
   "cell_type": "markdown",
   "metadata": {},
   "source": [
    "At least we can appreciate how some locations have consistently better profitability (264), as well as different hours through the day (see 138 and 132). We can also see that time trends can be different for different locations as well, so we should take this into account if we are to make time series analysis by not aggregating different locations.\n",
    "\n",
    "Nevertheless this approach is a bit naïve, as there are other factors that may impact, such as longer travels might be better than short ones (more efficient), we have aggregated data with no regard to special events, limited search space, etc. Additionally we would need a strategy generator to select which area or areas to go, which can also depend on where and when we are already present, and so on. But I think such considerations are out of the scope of this test.\n",
    "\n",
    "Also, this visualisation may be more practical in a map form. As zones identifiers are assigned alphabetically the figure above does not show correctly the spatial relations between the zones which could be exploited as well. Now that we have some blind results from the analysis let's solve for the true locations and see if it makes some sense:"
   ]
  },
  {
   "cell_type": "code",
   "execution_count": 157,
   "metadata": {
    "collapsed": true
   },
   "outputs": [],
   "source": [
    "zones=pd.read_csv(\"inputdata/taxi _zone_lookup.csv\", dtype={'LocationID':str})\n",
    "\n",
    "enriched_best = pd.merge(heatmap_values.reset_index(), zones, left_on='PULocationID', right_on='LocationID')\n",
    "\n"
   ]
  },
  {
   "cell_type": "code",
   "execution_count": 161,
   "metadata": {},
   "outputs": [
    {
     "data": {
      "text/html": [
       "<div>\n",
       "<style scoped>\n",
       "    .dataframe tbody tr th:only-of-type {\n",
       "        vertical-align: middle;\n",
       "    }\n",
       "\n",
       "    .dataframe tbody tr th {\n",
       "        vertical-align: top;\n",
       "    }\n",
       "\n",
       "    .dataframe thead th {\n",
       "        text-align: right;\n",
       "    }\n",
       "</style>\n",
       "<table border=\"1\" class=\"dataframe\">\n",
       "  <thead>\n",
       "    <tr style=\"text-align: right;\">\n",
       "      <th></th>\n",
       "      <th>PULocationID</th>\n",
       "      <th>hour_week</th>\n",
       "      <th>tip_per_distance</th>\n",
       "      <th>LocationID</th>\n",
       "      <th>Borough</th>\n",
       "      <th>Zone</th>\n",
       "      <th>service_zone</th>\n",
       "    </tr>\n",
       "  </thead>\n",
       "  <tbody>\n",
       "    <tr>\n",
       "      <th>771</th>\n",
       "      <td>138</td>\n",
       "      <td>99</td>\n",
       "      <td>40.300000</td>\n",
       "      <td>138</td>\n",
       "      <td>Queens</td>\n",
       "      <td>LaGuardia Airport</td>\n",
       "      <td>Airports</td>\n",
       "    </tr>\n",
       "    <tr>\n",
       "      <th>701</th>\n",
       "      <td>138</td>\n",
       "      <td>29</td>\n",
       "      <td>14.176462</td>\n",
       "      <td>138</td>\n",
       "      <td>Queens</td>\n",
       "      <td>LaGuardia Airport</td>\n",
       "      <td>Airports</td>\n",
       "    </tr>\n",
       "    <tr>\n",
       "      <th>725</th>\n",
       "      <td>138</td>\n",
       "      <td>53</td>\n",
       "      <td>13.840028</td>\n",
       "      <td>138</td>\n",
       "      <td>Queens</td>\n",
       "      <td>LaGuardia Airport</td>\n",
       "      <td>Airports</td>\n",
       "    </tr>\n",
       "    <tr>\n",
       "      <th>676</th>\n",
       "      <td>138</td>\n",
       "      <td>4</td>\n",
       "      <td>12.860774</td>\n",
       "      <td>138</td>\n",
       "      <td>Queens</td>\n",
       "      <td>LaGuardia Airport</td>\n",
       "      <td>Airports</td>\n",
       "    </tr>\n",
       "    <tr>\n",
       "      <th>772</th>\n",
       "      <td>138</td>\n",
       "      <td>100</td>\n",
       "      <td>12.250356</td>\n",
       "      <td>138</td>\n",
       "      <td>Queens</td>\n",
       "      <td>LaGuardia Airport</td>\n",
       "      <td>Airports</td>\n",
       "    </tr>\n",
       "    <tr>\n",
       "      <th>749</th>\n",
       "      <td>138</td>\n",
       "      <td>77</td>\n",
       "      <td>9.876945</td>\n",
       "      <td>138</td>\n",
       "      <td>Queens</td>\n",
       "      <td>LaGuardia Airport</td>\n",
       "      <td>Airports</td>\n",
       "    </tr>\n",
       "    <tr>\n",
       "      <th>798</th>\n",
       "      <td>138</td>\n",
       "      <td>126</td>\n",
       "      <td>9.249734</td>\n",
       "      <td>138</td>\n",
       "      <td>Queens</td>\n",
       "      <td>LaGuardia Airport</td>\n",
       "      <td>Airports</td>\n",
       "    </tr>\n",
       "    <tr>\n",
       "      <th>4349</th>\n",
       "      <td>264</td>\n",
       "      <td>149</td>\n",
       "      <td>8.881906</td>\n",
       "      <td>264</td>\n",
       "      <td>Unknown</td>\n",
       "      <td>NV</td>\n",
       "      <td>NaN</td>\n",
       "    </tr>\n",
       "    <tr>\n",
       "      <th>4275</th>\n",
       "      <td>264</td>\n",
       "      <td>75</td>\n",
       "      <td>8.848309</td>\n",
       "      <td>264</td>\n",
       "      <td>Unknown</td>\n",
       "      <td>NV</td>\n",
       "      <td>NaN</td>\n",
       "    </tr>\n",
       "    <tr>\n",
       "      <th>773</th>\n",
       "      <td>138</td>\n",
       "      <td>101</td>\n",
       "      <td>8.279487</td>\n",
       "      <td>138</td>\n",
       "      <td>Queens</td>\n",
       "      <td>LaGuardia Airport</td>\n",
       "      <td>Airports</td>\n",
       "    </tr>\n",
       "    <tr>\n",
       "      <th>4226</th>\n",
       "      <td>264</td>\n",
       "      <td>26</td>\n",
       "      <td>7.872221</td>\n",
       "      <td>264</td>\n",
       "      <td>Unknown</td>\n",
       "      <td>NV</td>\n",
       "      <td>NaN</td>\n",
       "    </tr>\n",
       "    <tr>\n",
       "      <th>4273</th>\n",
       "      <td>264</td>\n",
       "      <td>73</td>\n",
       "      <td>7.735820</td>\n",
       "      <td>264</td>\n",
       "      <td>Unknown</td>\n",
       "      <td>NV</td>\n",
       "      <td>NaN</td>\n",
       "    </tr>\n",
       "    <tr>\n",
       "      <th>4272</th>\n",
       "      <td>264</td>\n",
       "      <td>72</td>\n",
       "      <td>7.318168</td>\n",
       "      <td>264</td>\n",
       "      <td>Unknown</td>\n",
       "      <td>NV</td>\n",
       "      <td>NaN</td>\n",
       "    </tr>\n",
       "    <tr>\n",
       "      <th>4201</th>\n",
       "      <td>264</td>\n",
       "      <td>1</td>\n",
       "      <td>6.964102</td>\n",
       "      <td>264</td>\n",
       "      <td>Unknown</td>\n",
       "      <td>NV</td>\n",
       "      <td>NaN</td>\n",
       "    </tr>\n",
       "    <tr>\n",
       "      <th>4323</th>\n",
       "      <td>264</td>\n",
       "      <td>123</td>\n",
       "      <td>6.924841</td>\n",
       "      <td>264</td>\n",
       "      <td>Unknown</td>\n",
       "      <td>NV</td>\n",
       "      <td>NaN</td>\n",
       "    </tr>\n",
       "    <tr>\n",
       "      <th>4274</th>\n",
       "      <td>264</td>\n",
       "      <td>74</td>\n",
       "      <td>6.843303</td>\n",
       "      <td>264</td>\n",
       "      <td>Unknown</td>\n",
       "      <td>NV</td>\n",
       "      <td>NaN</td>\n",
       "    </tr>\n",
       "    <tr>\n",
       "      <th>4348</th>\n",
       "      <td>264</td>\n",
       "      <td>148</td>\n",
       "      <td>6.621752</td>\n",
       "      <td>264</td>\n",
       "      <td>Unknown</td>\n",
       "      <td>NV</td>\n",
       "      <td>NaN</td>\n",
       "    </tr>\n",
       "    <tr>\n",
       "      <th>675</th>\n",
       "      <td>138</td>\n",
       "      <td>3</td>\n",
       "      <td>6.120012</td>\n",
       "      <td>138</td>\n",
       "      <td>Queens</td>\n",
       "      <td>LaGuardia Airport</td>\n",
       "      <td>Airports</td>\n",
       "    </tr>\n",
       "    <tr>\n",
       "      <th>4299</th>\n",
       "      <td>264</td>\n",
       "      <td>99</td>\n",
       "      <td>6.103580</td>\n",
       "      <td>264</td>\n",
       "      <td>Unknown</td>\n",
       "      <td>NV</td>\n",
       "      <td>NaN</td>\n",
       "    </tr>\n",
       "    <tr>\n",
       "      <th>4224</th>\n",
       "      <td>264</td>\n",
       "      <td>24</td>\n",
       "      <td>5.840473</td>\n",
       "      <td>264</td>\n",
       "      <td>Unknown</td>\n",
       "      <td>NV</td>\n",
       "      <td>NaN</td>\n",
       "    </tr>\n",
       "    <tr>\n",
       "      <th>4301</th>\n",
       "      <td>264</td>\n",
       "      <td>101</td>\n",
       "      <td>5.740643</td>\n",
       "      <td>264</td>\n",
       "      <td>Unknown</td>\n",
       "      <td>NV</td>\n",
       "      <td>NaN</td>\n",
       "    </tr>\n",
       "    <tr>\n",
       "      <th>677</th>\n",
       "      <td>138</td>\n",
       "      <td>5</td>\n",
       "      <td>5.614006</td>\n",
       "      <td>138</td>\n",
       "      <td>Queens</td>\n",
       "      <td>LaGuardia Airport</td>\n",
       "      <td>Airports</td>\n",
       "    </tr>\n",
       "    <tr>\n",
       "      <th>4300</th>\n",
       "      <td>264</td>\n",
       "      <td>100</td>\n",
       "      <td>5.462790</td>\n",
       "      <td>264</td>\n",
       "      <td>Unknown</td>\n",
       "      <td>NV</td>\n",
       "      <td>NaN</td>\n",
       "    </tr>\n",
       "    <tr>\n",
       "      <th>4276</th>\n",
       "      <td>264</td>\n",
       "      <td>76</td>\n",
       "      <td>5.352553</td>\n",
       "      <td>264</td>\n",
       "      <td>Unknown</td>\n",
       "      <td>NV</td>\n",
       "      <td>NaN</td>\n",
       "    </tr>\n",
       "    <tr>\n",
       "      <th>4205</th>\n",
       "      <td>264</td>\n",
       "      <td>5</td>\n",
       "      <td>5.262414</td>\n",
       "      <td>264</td>\n",
       "      <td>Unknown</td>\n",
       "      <td>NV</td>\n",
       "      <td>NaN</td>\n",
       "    </tr>\n",
       "    <tr>\n",
       "      <th>4204</th>\n",
       "      <td>264</td>\n",
       "      <td>4</td>\n",
       "      <td>5.189822</td>\n",
       "      <td>264</td>\n",
       "      <td>Unknown</td>\n",
       "      <td>NV</td>\n",
       "      <td>NaN</td>\n",
       "    </tr>\n",
       "    <tr>\n",
       "      <th>4252</th>\n",
       "      <td>264</td>\n",
       "      <td>52</td>\n",
       "      <td>5.168423</td>\n",
       "      <td>264</td>\n",
       "      <td>Unknown</td>\n",
       "      <td>NV</td>\n",
       "      <td>NaN</td>\n",
       "    </tr>\n",
       "    <tr>\n",
       "      <th>4248</th>\n",
       "      <td>264</td>\n",
       "      <td>48</td>\n",
       "      <td>5.141339</td>\n",
       "      <td>264</td>\n",
       "      <td>Unknown</td>\n",
       "      <td>NV</td>\n",
       "      <td>NaN</td>\n",
       "    </tr>\n",
       "    <tr>\n",
       "      <th>4347</th>\n",
       "      <td>264</td>\n",
       "      <td>147</td>\n",
       "      <td>5.091577</td>\n",
       "      <td>264</td>\n",
       "      <td>Unknown</td>\n",
       "      <td>NV</td>\n",
       "      <td>NaN</td>\n",
       "    </tr>\n",
       "    <tr>\n",
       "      <th>4298</th>\n",
       "      <td>264</td>\n",
       "      <td>98</td>\n",
       "      <td>5.044723</td>\n",
       "      <td>264</td>\n",
       "      <td>Unknown</td>\n",
       "      <td>NV</td>\n",
       "      <td>NaN</td>\n",
       "    </tr>\n",
       "  </tbody>\n",
       "</table>\n",
       "</div>"
      ],
      "text/plain": [
       "     PULocationID  hour_week  tip_per_distance LocationID  Borough  \\\n",
       "771           138         99         40.300000        138   Queens   \n",
       "701           138         29         14.176462        138   Queens   \n",
       "725           138         53         13.840028        138   Queens   \n",
       "676           138          4         12.860774        138   Queens   \n",
       "772           138        100         12.250356        138   Queens   \n",
       "749           138         77          9.876945        138   Queens   \n",
       "798           138        126          9.249734        138   Queens   \n",
       "4349          264        149          8.881906        264  Unknown   \n",
       "4275          264         75          8.848309        264  Unknown   \n",
       "773           138        101          8.279487        138   Queens   \n",
       "4226          264         26          7.872221        264  Unknown   \n",
       "4273          264         73          7.735820        264  Unknown   \n",
       "4272          264         72          7.318168        264  Unknown   \n",
       "4201          264          1          6.964102        264  Unknown   \n",
       "4323          264        123          6.924841        264  Unknown   \n",
       "4274          264         74          6.843303        264  Unknown   \n",
       "4348          264        148          6.621752        264  Unknown   \n",
       "675           138          3          6.120012        138   Queens   \n",
       "4299          264         99          6.103580        264  Unknown   \n",
       "4224          264         24          5.840473        264  Unknown   \n",
       "4301          264        101          5.740643        264  Unknown   \n",
       "677           138          5          5.614006        138   Queens   \n",
       "4300          264        100          5.462790        264  Unknown   \n",
       "4276          264         76          5.352553        264  Unknown   \n",
       "4205          264          5          5.262414        264  Unknown   \n",
       "4204          264          4          5.189822        264  Unknown   \n",
       "4252          264         52          5.168423        264  Unknown   \n",
       "4248          264         48          5.141339        264  Unknown   \n",
       "4347          264        147          5.091577        264  Unknown   \n",
       "4298          264         98          5.044723        264  Unknown   \n",
       "\n",
       "                   Zone service_zone  \n",
       "771   LaGuardia Airport     Airports  \n",
       "701   LaGuardia Airport     Airports  \n",
       "725   LaGuardia Airport     Airports  \n",
       "676   LaGuardia Airport     Airports  \n",
       "772   LaGuardia Airport     Airports  \n",
       "749   LaGuardia Airport     Airports  \n",
       "798   LaGuardia Airport     Airports  \n",
       "4349                 NV          NaN  \n",
       "4275                 NV          NaN  \n",
       "773   LaGuardia Airport     Airports  \n",
       "4226                 NV          NaN  \n",
       "4273                 NV          NaN  \n",
       "4272                 NV          NaN  \n",
       "4201                 NV          NaN  \n",
       "4323                 NV          NaN  \n",
       "4274                 NV          NaN  \n",
       "4348                 NV          NaN  \n",
       "675   LaGuardia Airport     Airports  \n",
       "4299                 NV          NaN  \n",
       "4224                 NV          NaN  \n",
       "4301                 NV          NaN  \n",
       "677   LaGuardia Airport     Airports  \n",
       "4300                 NV          NaN  \n",
       "4276                 NV          NaN  \n",
       "4205                 NV          NaN  \n",
       "4204                 NV          NaN  \n",
       "4252                 NV          NaN  \n",
       "4248                 NV          NaN  \n",
       "4347                 NV          NaN  \n",
       "4298                 NV          NaN  "
      ]
     },
     "execution_count": 161,
     "metadata": {},
     "output_type": "execute_result"
    }
   ],
   "source": [
    "enriched_best.sort_values(by='tip_per_distance', ascending=False).head(30)"
   ]
  },
  {
   "cell_type": "markdown",
   "metadata": {},
   "source": [
    "We can see that going to airports to pick up passengers can be very profitable. That, if does not make sense, at least is seen as common practice among taxi drivers in many places.\n",
    "\n",
    "It is also interesting to see that some of the most profitable pickup locations are marked as Unknown as per the zone dictionary! "
   ]
  },
  {
   "cell_type": "code",
   "execution_count": null,
   "metadata": {
    "collapsed": true
   },
   "outputs": [],
   "source": []
  }
 ],
 "metadata": {
  "kernelspec": {
   "display_name": "Python 3",
   "language": "python",
   "name": "python3"
  },
  "language_info": {
   "codemirror_mode": {
    "name": "ipython",
    "version": 3
   },
   "file_extension": ".py",
   "mimetype": "text/x-python",
   "name": "python",
   "nbconvert_exporter": "python",
   "pygments_lexer": "ipython3",
   "version": "3.6.5"
  }
 },
 "nbformat": 4,
 "nbformat_minor": 2
}
