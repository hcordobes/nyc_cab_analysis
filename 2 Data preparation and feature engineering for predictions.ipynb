{
 "cells": [
  {
   "cell_type": "markdown",
   "metadata": {},
   "source": [
    "Let's use all the data we expected to use (three months worth) to make predictions on the tip amount.\n",
    "\n",
    "The data will be processed in the same way it was done on the data cleaning analysis, and then some other processing will be carried to generate potentially interesting features.\n",
    "\n",
    "The overall process for each file will be like this:\n",
    "\n",
    "1. Load data csv file\n",
    "2. Flush entries with bad data\n",
    "3. Enrich data with extra information and transform part of the data into other fields that can be better exploited by machine learning techniques\n",
    "4. Save this data\n",
    "\n",
    "Then we will put all this data together, and try some feature engineering process, and then try to make predictions. It is possible that some changes shall be made on the go as we see partial results. This is usually an iterative process."
   ]
  },
  {
   "cell_type": "code",
   "execution_count": 2,
   "metadata": {
    "collapsed": true
   },
   "outputs": [],
   "source": [
    "import pandas as pd\n",
    "import numpy as np\n",
    "import fiona\n",
    "\n",
    "import matplotlib.pyplot as plt\n",
    "%matplotlib inline"
   ]
  },
  {
   "cell_type": "markdown",
   "metadata": {},
   "source": [
    "Let's recall the data format from the data exploration phase:\n",
    "\n",
    "| variable | type | comments |\n",
    "| :--- | --- | ---: |\n",
    "| **VendorID** | categorical | Provider of the data, note 1 |\n",
    "| **tpep_pickup_datetime** \t| timestamp string | Pick Up Time in NYC local time |\n",
    "| **tpep_dropoff_datetime** | timestamp string | Drop Off Time in NYC local time |\n",
    "| **passenger_count** | integer | Data entered manually (by driver) |\n",
    "| **trip_distance** | float | Distance in miles as per taximeter |\n",
    "| **RatecodeID** | categorical | Rate code, note 1 |\n",
    "| **store_and_fwd_flag**  | categorical | data storage mode |\n",
    "| **PULocationID** | categorical-spatial | note 1, note 2 |\n",
    "| **DOLocationID** | categorical-spatial | note 1, note 2 |\n",
    "| **payment_type**  | categorical | Payment method, and null trip indicator \"6\", note 1 |\n",
    "| **fare_amount** | float | The base charge from the taximeter |\n",
    "| **extra** | float | Extra charges |\n",
    "| **mta_tax** | float | Tax charges |\n",
    "| **tip_amount** | float | Automatic card tip, cash tips not included |\n",
    "| **tolls_amount** | float | Tolls charges |\n",
    "| **improvement_surcharge** | float | Levied in 2015 |\n",
    "| **total_amount** | float | Does not include cash tips |\n",
    "\n",
    "Some basic enrichments we can perform are:\n",
    "\n",
    "* Generate timing info which takes into account cycles:\n",
    " - Time of the day\n",
    " - Day of the week\n",
    " - Month of the year\n",
    "We can choose to handle this data either as categorical data or we can choose some cycle representation which may map distances properly, such as sin(data/cycle_lenght) and cos(data/cycle_length)\n",
    "* Use the areas info to include borough\n",
    "* Use shapes info to include approximate latitude/longitude or equivalents\n",
    "* Use calendar data to mark events that could affect our Y, such as festivities (although this task will not be used as only one such occasion has been found on the calendar, Thanksgiving)"
   ]
  },
  {
   "cell_type": "code",
   "execution_count": 4,
   "metadata": {
    "collapsed": true
   },
   "outputs": [],
   "source": [
    "zone_id=[]\n",
    "borough=[]\n",
    "latitude=[]\n",
    "longitude=[]\n",
    "\n",
    "with fiona.open('inputdata/shapes/taxi_zones.shp') as source:\n",
    "  for shape in source:\n",
    "    points=np.array(shape['geometry']['coordinates'][0])\n",
    "    if len(points.shape)==3: # complex shape\n",
    "        points.resize([points.shape[1], points.shape[2]])\n",
    "    center=np.mean(points, axis=0) # Not rigorous, shapes can be irregular\n",
    "    latitude.append(center[0])\n",
    "    longitude.append(center[1])\n",
    "    zone_id.append(str(shape['properties']['LocationID']))\n",
    "    borough.append(shape['properties']['borough'])\n",
    "geoinfo=pd.DataFrame({'LocationID': zone_id, 'Latitude': latitude, 'Longitude': longitude, 'borough': borough})"
   ]
  },
  {
   "cell_type": "code",
   "execution_count": 89,
   "metadata": {},
   "outputs": [
    {
     "data": {
      "image/png": "[encoded data removed]",
      "text/plain": [
       "<matplotlib.figure.Figure at 0x7f5cf78a0dd8>"
      ]
     },
     "metadata": {},
     "output_type": "display_data"
    }
   ],
   "source": [
    "plt.scatter(latitude, longitude, marker='.')\n",
    "plt.show()"
   ]
  },
  {
   "cell_type": "code",
   "execution_count": 86,
   "metadata": {
    "collapsed": true
   },
   "outputs": [],
   "source": []
  },
  {
   "cell_type": "code",
   "execution_count": 9,
   "metadata": {},
   "outputs": [
    {
     "name": "stdout",
     "output_type": "stream",
     "text": [
      "Loading data...\n",
      "Converting datetime...\n",
      "Cleaning...\n",
      "Imputing...\n",
      "Adding conversions...\n",
      "Adding area data...\n",
      "Saving...\n",
      "Loading data...\n",
      "Converting datetime...\n",
      "Cleaning...\n",
      "Imputing...\n",
      "Adding conversions...\n",
      "Adding area data...\n",
      "Saving...\n",
      "Loading data...\n",
      "Converting datetime...\n",
      "Cleaning...\n",
      "Imputing...\n",
      "Adding conversions...\n",
      "Adding area data...\n",
      "Saving...\n"
     ]
    }
   ],
   "source": [
    "input_files=['inputdata/yellow_tripdata_2017-03.csv',\n",
    "             'inputdata/yellow_tripdata_2017-06.csv',\n",
    "             'inputdata/yellow_tripdata_2017-11.csv']\n",
    "output_files=['outputdata/3.csv',\n",
    "              'outputdata/6.csv',\n",
    "              'outputdata/11.csv', ]\n",
    "for inputfile, outputfile in zip(input_files, output_files):\n",
    "    print(\"Loading data...\")\n",
    "    data = pd.read_csv(inputfile, \n",
    "                       dtype={'PULocationID':str, 'DOLocationID':str, 'RatecodeID':str,  'payment_type':str,\n",
    "                              'VendorID':str})\n",
    "    print(\"Converting datetime...\")\n",
    "    data['tpep_pickup_datetime']=pd.to_datetime(data['tpep_pickup_datetime'],\n",
    "                                                format='%Y-%m-%d %H:%M:%S',\n",
    "                                                errors='coerce')\n",
    "    data['tpep_dropoff_datetime']=pd.to_datetime(data['tpep_dropoff_datetime'],\n",
    "                                                 format='%Y-%m-%d %H:%M:%S',\n",
    "                                                 errors='coerce')\n",
    "\n",
    "    print(\"Cleaning...\")\n",
    "    diff_date=(data['tpep_dropoff_datetime']-data['tpep_pickup_datetime']).astype('timedelta64[s]')\n",
    "    bad_dates=diff_date.index[diff_date < 0].tolist()\n",
    "    bad_distance=data.index[data['trip_distance'] <= 0].tolist()\n",
    "    bad_RatecodeID=data.index[~data['RatecodeID'].isin([str(x) for x in range(1,7)])].tolist()\n",
    "    bad_charges=data.index[(data['fare_amount'] < 0) | (data['extra'] < 0) |\n",
    "                           (data['mta_tax'] < 0) | (data['tip_amount'] < 0) |\n",
    "                           (data['tolls_amount'] < 0) | (data['improvement_surcharge'] < 0) |\n",
    "                           (data['total_amount'] < 0)]\n",
    "    bad_entries=set(bad_dates) | set(bad_distance) | set(bad_RatecodeID) | set(bad_charges)\n",
    "    data=data.drop(data.index[list(bad_entries)])\n",
    "    \n",
    "    print(\"Imputing...\")\n",
    "    mean_passenger=np.mean(data['passenger_count'])\n",
    "    data[data['passenger_count']<1] = mean_passenger\n",
    "    \n",
    "    print(\"Adding conversions...\")\n",
    "    # Nasty behaviour from pandas, need to convert again??\n",
    "    data['tpep_pickup_datetime']=pd.to_datetime(data['tpep_pickup_datetime'],\n",
    "                                                format='%Y-%m-%d %H:%M:%S',\n",
    "                                                errors='coerce')\n",
    "    data['tpep_dropoff_datetime']=pd.to_datetime(data['tpep_dropoff_datetime'],\n",
    "                                                 format='%Y-%m-%d %H:%M:%S',\n",
    "                                                 errors='coerce')\n",
    "    \n",
    "    # hour/minute\n",
    "    data['pickup_time_sin'] = np.sin(\n",
    "        (data['tpep_pickup_datetime'].dt.hour*60+data['tpep_pickup_datetime'].dt.minute)/(24*60))\n",
    "    data['pickup_time_cos'] = np.cos(\n",
    "        (data['tpep_pickup_datetime'].dt.hour*60+data['tpep_pickup_datetime'].dt.minute)/(24*60))\n",
    "    data['dropoff_time_sin'] = np.sin(\n",
    "        (data['tpep_dropoff_datetime'].dt.hour*60+data['tpep_dropoff_datetime'].dt.minute)/(24*60))\n",
    "    data['dropoff_time_cos'] = np.cos(\n",
    "        (data['tpep_dropoff_datetime'].dt.hour*60+data['tpep_dropoff_datetime'].dt.minute)/(24*60))\n",
    "\n",
    "    # day and month have less variation, so let's take only pickup instances\n",
    "    data['pickup_day_sin'] = np.sin(data['tpep_pickup_datetime'].dt.dayofweek/7)\n",
    "    data['pickup_day_cos'] = np.cos(data['tpep_pickup_datetime'].dt.dayofweek/7)\n",
    "    data['pickup_month_sin'] = np.sin(data['tpep_pickup_datetime'].dt.month/12)\n",
    "    data['pickup_month_cos'] = np.cos(data['tpep_pickup_datetime'].dt.month/12)\n",
    "\n",
    "    print(\"Adding area data...\")\n",
    "    # left join, some areas codes haven't got any shape\n",
    "    data=data.merge(geoinfo, how='left', left_on='PULocationID', right_on='LocationID')\n",
    "    data=data.merge(geoinfo, how='left', left_on='DOLocationID', right_on='LocationID', suffixes=('_PU', '_DO'))\n",
    "    \n",
    "    # Unneeded\n",
    "    data.drop(['LocationID_PU', 'LocationID_DO'])\n",
    "    \n",
    "    print(\"Saving...\")\n",
    "    # Smaller files, enough precision\n",
    "    data.to_csv(outputfile, float_format='%.3f')"
   ]
  },
  {
   "cell_type": "code",
   "execution_count": null,
   "metadata": {
    "collapsed": true
   },
   "outputs": [],
   "source": []
  }
 ],
 "metadata": {
  "kernelspec": {
   "display_name": "Python 3",
   "language": "python",
   "name": "python3"
  },
  "language_info": {
   "codemirror_mode": {
    "name": "ipython",
    "version": 3
   },
   "file_extension": ".py",
   "mimetype": "text/x-python",
   "name": "python",
   "nbconvert_exporter": "python",
   "pygments_lexer": "ipython3",
   "version": "3.6.5"
  }
 },
 "nbformat": 4,
 "nbformat_minor": 2
}
